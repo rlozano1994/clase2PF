{
 "cells": [
  {
   "cell_type": "code",
   "execution_count": 1,
   "id": "535aa928",
   "metadata": {},
   "outputs": [],
   "source": [
    "#Algoritmo = conjunto de instrucciones\n",
    "# Un algoritmo es un conjunto de instrucciones definidas, ordenadas y acotadas para resolver un problema o realizar una tarea.\n",
    "# Partes de un algoritmo:\n",
    "# 1.Entrada: informacion que le damos al algoritmo\n",
    "# 2.Proceso: conjunto de pasos para que a partir de los datos de entrada se llegue a la solucion\n",
    "# 3.Salida: Resultados, de la transformacion del proceso\n"
   ]
  },
  {
   "cell_type": "code",
   "execution_count": 2,
   "id": "ec38d05c",
   "metadata": {},
   "outputs": [],
   "source": [
    "#Algoritmo para salir de vacaciones:\n",
    "# 1. Revisar el calendario y buscar dias disponibles\n",
    "# 2. Considerar los lugares que quiero visitar\n",
    "# 3. Encontrar y reservar vuelo para ir de vacaciones\n",
    "# 4. Reservar un hotel para hospedar\n",
    "# 5. Viajar el dia en que es la reservacion del vuelo"
   ]
  },
  {
   "cell_type": "code",
   "execution_count": 3,
   "id": "0b56696c",
   "metadata": {},
   "outputs": [],
   "source": [
    "#Algoritmo para vender refresco en tiendita\n",
    "# 1. Conseguir los refrescos del proveedor\n",
    "# 2. Acomodar los refrescos en la tiendita\n",
    "# 3. Esperar a que un cliente compre le refresco\n",
    "# 4. Registrar la venta en el sistema de la tienda\n"
   ]
  },
  {
   "cell_type": "code",
   "execution_count": null,
   "id": "029fe1a4",
   "metadata": {},
   "outputs": [],
   "source": []
  }
 ],
 "metadata": {
  "kernelspec": {
   "display_name": "Python 3 (ipykernel)",
   "language": "python",
   "name": "python3"
  },
  "language_info": {
   "codemirror_mode": {
    "name": "ipython",
    "version": 3
   },
   "file_extension": ".py",
   "mimetype": "text/x-python",
   "name": "python",
   "nbconvert_exporter": "python",
   "pygments_lexer": "ipython3",
   "version": "3.9.12"
  }
 },
 "nbformat": 4,
 "nbformat_minor": 5
}
