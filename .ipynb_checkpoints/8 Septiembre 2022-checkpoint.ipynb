{
 "cells": [
  {
   "cell_type": "code",
   "execution_count": 1,
   "id": "7d14a437",
   "metadata": {},
   "outputs": [],
   "source": [
    "tupla1 = (\"Python\",3.6,True,5)"
   ]
  },
  {
   "cell_type": "code",
   "execution_count": 2,
   "id": "72afd021",
   "metadata": {},
   "outputs": [
    {
     "data": {
      "text/plain": [
       "tuple"
      ]
     },
     "execution_count": 2,
     "metadata": {},
     "output_type": "execute_result"
    }
   ],
   "source": [
    "type(tupla1)"
   ]
  },
  {
   "cell_type": "code",
   "execution_count": 3,
   "id": "964e5a5a",
   "metadata": {},
   "outputs": [
    {
     "ename": "AttributeError",
     "evalue": "'tuple' object has no attribute 'append'",
     "output_type": "error",
     "traceback": [
      "\u001b[0;31m---------------------------------------------------------------------------\u001b[0m",
      "\u001b[0;31mAttributeError\u001b[0m                            Traceback (most recent call last)",
      "Input \u001b[0;32mIn [3]\u001b[0m, in \u001b[0;36m<cell line: 1>\u001b[0;34m()\u001b[0m\n\u001b[0;32m----> 1\u001b[0m \u001b[43mtupla1\u001b[49m\u001b[38;5;241;43m.\u001b[39;49m\u001b[43mappend\u001b[49m(\u001b[38;5;241m2\u001b[39m)\n",
      "\u001b[0;31mAttributeError\u001b[0m: 'tuple' object has no attribute 'append'"
     ]
    }
   ],
   "source": [
    "tupla1.append(2)"
   ]
  },
  {
   "cell_type": "code",
   "execution_count": 4,
   "id": "bd078875",
   "metadata": {},
   "outputs": [],
   "source": [
    "listatupla1 = list(tupla1)"
   ]
  },
  {
   "cell_type": "code",
   "execution_count": 5,
   "id": "167d05fd",
   "metadata": {},
   "outputs": [
    {
     "data": {
      "text/plain": [
       "['Python', 3.6, True, 5]"
      ]
     },
     "execution_count": 5,
     "metadata": {},
     "output_type": "execute_result"
    }
   ],
   "source": [
    "listatupla1"
   ]
  },
  {
   "cell_type": "code",
   "execution_count": 6,
   "id": "82637120",
   "metadata": {},
   "outputs": [],
   "source": [
    "listatupla1.append(2)"
   ]
  },
  {
   "cell_type": "code",
   "execution_count": 7,
   "id": "7c63bcbe",
   "metadata": {},
   "outputs": [
    {
     "data": {
      "text/plain": [
       "list"
      ]
     },
     "execution_count": 7,
     "metadata": {},
     "output_type": "execute_result"
    }
   ],
   "source": [
    "type(listatupla1)"
   ]
  },
  {
   "cell_type": "code",
   "execution_count": 8,
   "id": "98670f0e",
   "metadata": {},
   "outputs": [],
   "source": [
    "#Diccionarios - Elementos en pares, poseen una llave o un key se define con llaves\n",
    "#Encontrar valor a partir del key"
   ]
  },
  {
   "cell_type": "markdown",
   "id": "a9750ab5",
   "metadata": {},
   "source": [
    "Diccionarios"
   ]
  },
  {
   "cell_type": "code",
   "execution_count": 10,
   "id": "c7205eb4",
   "metadata": {},
   "outputs": [],
   "source": [
    "diccionario1 = {\"Nombre\":\"Victor\", \"Pelicula\":\"Nope\", \"Numero\":3,\n",
    "                \"Nombre\":\"Carlos\", \"Pelicula\":\"Avengers\", \"Numero\":6,\n",
    "                \"Nombre\":\"Claudia\", \"Pelicula\":\"Parasitos\", \"Numero\":10}"
   ]
  },
  {
   "cell_type": "code",
   "execution_count": 11,
   "id": "7396eb6a",
   "metadata": {},
   "outputs": [
    {
     "data": {
      "text/plain": [
       "dict"
      ]
     },
     "execution_count": 11,
     "metadata": {},
     "output_type": "execute_result"
    }
   ],
   "source": [
    "type(diccionario1)"
   ]
  },
  {
   "cell_type": "code",
   "execution_count": 12,
   "id": "85be498b",
   "metadata": {},
   "outputs": [
    {
     "data": {
      "text/plain": [
       "'Claudia'"
      ]
     },
     "execution_count": 12,
     "metadata": {},
     "output_type": "execute_result"
    }
   ],
   "source": [
    "diccionario1[\"Nombre\"]"
   ]
  },
  {
   "cell_type": "code",
   "execution_count": 16,
   "id": "2182208c",
   "metadata": {},
   "outputs": [
    {
     "data": {
      "text/plain": [
       "'Claudia'"
      ]
     },
     "execution_count": 16,
     "metadata": {},
     "output_type": "execute_result"
    }
   ],
   "source": [
    "diccionario1[\"Nombre\"]"
   ]
  },
  {
   "cell_type": "code",
   "execution_count": 17,
   "id": "c2654ca3",
   "metadata": {},
   "outputs": [
    {
     "name": "stdout",
     "output_type": "stream",
     "text": [
      "{'Nombre': 'Claudia', 'Pelicula': 'Parasitos', 'Numero': 10}\n"
     ]
    }
   ],
   "source": [
    "print(diccionario1)"
   ]
  },
  {
   "cell_type": "code",
   "execution_count": 18,
   "id": "df05bd00",
   "metadata": {},
   "outputs": [],
   "source": [
    "diccionario1.clear()"
   ]
  },
  {
   "cell_type": "code",
   "execution_count": 19,
   "id": "9e2cd978",
   "metadata": {},
   "outputs": [
    {
     "data": {
      "text/plain": [
       "{}"
      ]
     },
     "execution_count": 19,
     "metadata": {},
     "output_type": "execute_result"
    }
   ],
   "source": [
    "diccionario1"
   ]
  },
  {
   "cell_type": "code",
   "execution_count": 20,
   "id": "a5b70223",
   "metadata": {},
   "outputs": [],
   "source": [
    "keys=(\"Nombre\",\"Pelicula\",\"Numero\")\n",
    "diccionario2 = dict.fromkeys(keys)"
   ]
  },
  {
   "cell_type": "code",
   "execution_count": 21,
   "id": "0382e0c9",
   "metadata": {},
   "outputs": [
    {
     "data": {
      "text/plain": [
       "{'Nombre': None, 'Pelicula': None, 'Numero': None}"
      ]
     },
     "execution_count": 21,
     "metadata": {},
     "output_type": "execute_result"
    }
   ],
   "source": [
    "diccionario2"
   ]
  },
  {
   "cell_type": "code",
   "execution_count": 22,
   "id": "0563c131",
   "metadata": {},
   "outputs": [
    {
     "data": {
      "text/plain": [
       "tuple"
      ]
     },
     "execution_count": 22,
     "metadata": {},
     "output_type": "execute_result"
    }
   ],
   "source": [
    "type(keys)"
   ]
  },
  {
   "cell_type": "code",
   "execution_count": 23,
   "id": "fded83eb",
   "metadata": {},
   "outputs": [],
   "source": [
    "sistema=dict(windows=10,core=\"i7\",Python=3.6)"
   ]
  },
  {
   "cell_type": "code",
   "execution_count": 24,
   "id": "9519104c",
   "metadata": {},
   "outputs": [
    {
     "data": {
      "text/plain": [
       "{'windows': 10, 'core': 'i7', 'Python': 3.6}"
      ]
     },
     "execution_count": 24,
     "metadata": {},
     "output_type": "execute_result"
    }
   ],
   "source": [
    "sistema"
   ]
  },
  {
   "cell_type": "code",
   "execution_count": 25,
   "id": "aa3849d9",
   "metadata": {},
   "outputs": [
    {
     "data": {
      "text/plain": [
       "dict_items([('windows', 10), ('core', 'i7'), ('Python', 3.6)])"
      ]
     },
     "execution_count": 25,
     "metadata": {},
     "output_type": "execute_result"
    }
   ],
   "source": [
    "sistema.items()"
   ]
  },
  {
   "cell_type": "code",
   "execution_count": 26,
   "id": "4dcc0a18",
   "metadata": {},
   "outputs": [
    {
     "data": {
      "text/plain": [
       "10"
      ]
     },
     "execution_count": 26,
     "metadata": {},
     "output_type": "execute_result"
    }
   ],
   "source": [
    "sistema.get(\"windows\")"
   ]
  },
  {
   "cell_type": "code",
   "execution_count": 27,
   "id": "77b910eb",
   "metadata": {},
   "outputs": [
    {
     "data": {
      "text/plain": [
       "dict_keys(['windows', 'core', 'Python'])"
      ]
     },
     "execution_count": 27,
     "metadata": {},
     "output_type": "execute_result"
    }
   ],
   "source": [
    "sistema.keys()"
   ]
  },
  {
   "cell_type": "code",
   "execution_count": 28,
   "id": "8bf3fb75",
   "metadata": {},
   "outputs": [
    {
     "data": {
      "text/plain": [
       "3.6"
      ]
     },
     "execution_count": 28,
     "metadata": {},
     "output_type": "execute_result"
    }
   ],
   "source": [
    "sistema.pop(\"Python\")"
   ]
  },
  {
   "cell_type": "code",
   "execution_count": 29,
   "id": "f40b4b77",
   "metadata": {},
   "outputs": [
    {
     "data": {
      "text/plain": [
       "{'windows': 10, 'core': 'i7'}"
      ]
     },
     "execution_count": 29,
     "metadata": {},
     "output_type": "execute_result"
    }
   ],
   "source": [
    "sistema"
   ]
  },
  {
   "cell_type": "code",
   "execution_count": 38,
   "id": "b8c43d3d",
   "metadata": {},
   "outputs": [],
   "source": [
    "#Actividad de tarea -\n",
    "mitupla=(False,1,\"Hola\",1.3,[1])"
   ]
  },
  {
   "cell_type": "code",
   "execution_count": 39,
   "id": "30056fad",
   "metadata": {},
   "outputs": [
    {
     "data": {
      "text/plain": [
       "tuple"
      ]
     },
     "execution_count": 39,
     "metadata": {},
     "output_type": "execute_result"
    }
   ],
   "source": [
    "type(mitupla)"
   ]
  },
  {
   "cell_type": "code",
   "execution_count": 32,
   "id": "5f1116f0",
   "metadata": {},
   "outputs": [],
   "source": [
    "x = 999999999999999999"
   ]
  },
  {
   "cell_type": "code",
   "execution_count": 33,
   "id": "9a9cb12b",
   "metadata": {},
   "outputs": [
    {
     "data": {
      "text/plain": [
       "int"
      ]
     },
     "execution_count": 33,
     "metadata": {},
     "output_type": "execute_result"
    }
   ],
   "source": [
    "type(x)"
   ]
  },
  {
   "cell_type": "code",
   "execution_count": 35,
   "id": "f2b68fb2",
   "metadata": {},
   "outputs": [],
   "source": [
    "x = 1.3"
   ]
  },
  {
   "cell_type": "code",
   "execution_count": 36,
   "id": "fd48e81f",
   "metadata": {},
   "outputs": [
    {
     "data": {
      "text/plain": [
       "1.3"
      ]
     },
     "execution_count": 36,
     "metadata": {},
     "output_type": "execute_result"
    }
   ],
   "source": [
    "x"
   ]
  },
  {
   "cell_type": "code",
   "execution_count": 37,
   "id": "dfc527b7",
   "metadata": {},
   "outputs": [
    {
     "data": {
      "text/plain": [
       "float"
      ]
     },
     "execution_count": 37,
     "metadata": {},
     "output_type": "execute_result"
    }
   ],
   "source": [
    "type(x)"
   ]
  },
  {
   "cell_type": "code",
   "execution_count": 40,
   "id": "b9807dbc",
   "metadata": {},
   "outputs": [],
   "source": [
    "y = [1]"
   ]
  },
  {
   "cell_type": "code",
   "execution_count": 41,
   "id": "9b9f002a",
   "metadata": {},
   "outputs": [
    {
     "data": {
      "text/plain": [
       "list"
      ]
     },
     "execution_count": 41,
     "metadata": {},
     "output_type": "execute_result"
    }
   ],
   "source": [
    "type(y)"
   ]
  },
  {
   "cell_type": "code",
   "execution_count": 42,
   "id": "b0d55cfa",
   "metadata": {},
   "outputs": [],
   "source": [
    "milista = list(mitupla)"
   ]
  },
  {
   "cell_type": "code",
   "execution_count": 43,
   "id": "7349e9b2",
   "metadata": {},
   "outputs": [],
   "source": [
    "keys = [1,2,3,4,5]"
   ]
  },
  {
   "cell_type": "code",
   "execution_count": 44,
   "id": "1b604ab4",
   "metadata": {},
   "outputs": [],
   "source": [
    "midiccion = dict.fromkeys(keys, milista)"
   ]
  },
  {
   "cell_type": "code",
   "execution_count": 45,
   "id": "c45578ee",
   "metadata": {},
   "outputs": [
    {
     "data": {
      "text/plain": [
       "{1: [False, 1, 'Hola', 1.3, [1]],\n",
       " 2: [False, 1, 'Hola', 1.3, [1]],\n",
       " 3: [False, 1, 'Hola', 1.3, [1]],\n",
       " 4: [False, 1, 'Hola', 1.3, [1]],\n",
       " 5: [False, 1, 'Hola', 1.3, [1]]}"
      ]
     },
     "execution_count": 45,
     "metadata": {},
     "output_type": "execute_result"
    }
   ],
   "source": [
    "midiccion"
   ]
  },
  {
   "cell_type": "code",
   "execution_count": 46,
   "id": "d34e6c3f",
   "metadata": {},
   "outputs": [],
   "source": [
    "midiccion.clear()"
   ]
  },
  {
   "cell_type": "code",
   "execution_count": 47,
   "id": "66ecf24e",
   "metadata": {},
   "outputs": [
    {
     "data": {
      "text/plain": [
       "{}"
      ]
     },
     "execution_count": 47,
     "metadata": {},
     "output_type": "execute_result"
    }
   ],
   "source": [
    "midiccion"
   ]
  },
  {
   "cell_type": "code",
   "execution_count": 48,
   "id": "4f0c72bf",
   "metadata": {},
   "outputs": [],
   "source": [
    "midiccion = dict.fromkeys(keys, milista)"
   ]
  },
  {
   "cell_type": "code",
   "execution_count": 49,
   "id": "d414e0d5",
   "metadata": {},
   "outputs": [
    {
     "data": {
      "text/plain": [
       "{1: [False, 1, 'Hola', 1.3, [1]],\n",
       " 2: [False, 1, 'Hola', 1.3, [1]],\n",
       " 3: [False, 1, 'Hola', 1.3, [1]],\n",
       " 4: [False, 1, 'Hola', 1.3, [1]],\n",
       " 5: [False, 1, 'Hola', 1.3, [1]]}"
      ]
     },
     "execution_count": 49,
     "metadata": {},
     "output_type": "execute_result"
    }
   ],
   "source": [
    "midiccion"
   ]
  },
  {
   "cell_type": "code",
   "execution_count": null,
   "id": "ef02d206",
   "metadata": {},
   "outputs": [],
   "source": []
  }
 ],
 "metadata": {
  "kernelspec": {
   "display_name": "Python 3 (ipykernel)",
   "language": "python",
   "name": "python3"
  },
  "language_info": {
   "codemirror_mode": {
    "name": "ipython",
    "version": 3
   },
   "file_extension": ".py",
   "mimetype": "text/x-python",
   "name": "python",
   "nbconvert_exporter": "python",
   "pygments_lexer": "ipython3",
   "version": "3.9.12"
  }
 },
 "nbformat": 4,
 "nbformat_minor": 5
}
