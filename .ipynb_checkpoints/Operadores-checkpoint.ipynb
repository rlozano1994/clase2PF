{
 "cells": [
  {
   "cell_type": "code",
   "execution_count": 1,
   "id": "97546948",
   "metadata": {},
   "outputs": [
    {
     "data": {
      "text/plain": [
       "False"
      ]
     },
     "execution_count": 1,
     "metadata": {},
     "output_type": "execute_result"
    }
   ],
   "source": [
    "1==2 #Evalua una igualdad"
   ]
  },
  {
   "cell_type": "code",
   "execution_count": 2,
   "id": "5ecf253b",
   "metadata": {},
   "outputs": [
    {
     "data": {
      "text/plain": [
       "True"
      ]
     },
     "execution_count": 2,
     "metadata": {},
     "output_type": "execute_result"
    }
   ],
   "source": [
    "1<2"
   ]
  },
  {
   "cell_type": "code",
   "execution_count": 3,
   "id": "19f53d18",
   "metadata": {},
   "outputs": [],
   "source": [
    "#>, <, <=, >="
   ]
  },
  {
   "cell_type": "code",
   "execution_count": 4,
   "id": "0141c41b",
   "metadata": {},
   "outputs": [
    {
     "data": {
      "text/plain": [
       "True"
      ]
     },
     "execution_count": 4,
     "metadata": {},
     "output_type": "execute_result"
    }
   ],
   "source": [
    "1!=2"
   ]
  },
  {
   "cell_type": "code",
   "execution_count": 5,
   "id": "2afb1f83",
   "metadata": {},
   "outputs": [],
   "source": [
    "cadena1, cadena2 = \"Hola\", \"Adios\""
   ]
  },
  {
   "cell_type": "code",
   "execution_count": 6,
   "id": "d5df4b9a",
   "metadata": {},
   "outputs": [
    {
     "data": {
      "text/plain": [
       "'Hola'"
      ]
     },
     "execution_count": 6,
     "metadata": {},
     "output_type": "execute_result"
    }
   ],
   "source": [
    "cadena1"
   ]
  },
  {
   "cell_type": "code",
   "execution_count": 7,
   "id": "2cd0dbc1",
   "metadata": {},
   "outputs": [],
   "source": [
    "lista1, lista2 = [3,\"Bienvenido\",23], [True,\"Gracias por su visita\"]"
   ]
  },
  {
   "cell_type": "code",
   "execution_count": 8,
   "id": "02d2d9ab",
   "metadata": {},
   "outputs": [],
   "source": [
    "c_cadenas= cadena1==cadena2"
   ]
  },
  {
   "cell_type": "code",
   "execution_count": 9,
   "id": "dac047e7",
   "metadata": {},
   "outputs": [
    {
     "data": {
      "text/plain": [
       "False"
      ]
     },
     "execution_count": 9,
     "metadata": {},
     "output_type": "execute_result"
    }
   ],
   "source": [
    "c_cadenas"
   ]
  },
  {
   "cell_type": "code",
   "execution_count": 10,
   "id": "bb18ce4f",
   "metadata": {},
   "outputs": [],
   "source": [
    "listas = lista1 == lista2"
   ]
  },
  {
   "cell_type": "code",
   "execution_count": 11,
   "id": "458faadb",
   "metadata": {},
   "outputs": [
    {
     "data": {
      "text/plain": [
       "False"
      ]
     },
     "execution_count": 11,
     "metadata": {},
     "output_type": "execute_result"
    }
   ],
   "source": [
    "listas"
   ]
  },
  {
   "cell_type": "code",
   "execution_count": 12,
   "id": "cdfd59ed",
   "metadata": {},
   "outputs": [],
   "source": [
    "a,b,c = \"Hola\",\"Mundo\",\" \""
   ]
  },
  {
   "cell_type": "code",
   "execution_count": 13,
   "id": "41395a7e",
   "metadata": {},
   "outputs": [
    {
     "data": {
      "text/plain": [
       "'HolaMundo '"
      ]
     },
     "execution_count": 13,
     "metadata": {},
     "output_type": "execute_result"
    }
   ],
   "source": [
    "a+b+c"
   ]
  },
  {
   "cell_type": "code",
   "execution_count": 14,
   "id": "c3470c57",
   "metadata": {},
   "outputs": [
    {
     "data": {
      "text/plain": [
       "'Hola Mundo'"
      ]
     },
     "execution_count": 14,
     "metadata": {},
     "output_type": "execute_result"
    }
   ],
   "source": [
    "a+c+b"
   ]
  },
  {
   "cell_type": "code",
   "execution_count": 15,
   "id": "5e372d1e",
   "metadata": {},
   "outputs": [
    {
     "data": {
      "text/plain": [
       "'HolaHolaHola Mundo'"
      ]
     },
     "execution_count": 15,
     "metadata": {},
     "output_type": "execute_result"
    }
   ],
   "source": [
    "a*3+c+b"
   ]
  },
  {
   "cell_type": "code",
   "execution_count": 16,
   "id": "ed12990c",
   "metadata": {},
   "outputs": [],
   "source": [
    "d=\"Cabra\""
   ]
  },
  {
   "cell_type": "code",
   "execution_count": 17,
   "id": "fa3c89cc",
   "metadata": {},
   "outputs": [
    {
     "data": {
      "text/plain": [
       "'Cabra'"
      ]
     },
     "execution_count": 17,
     "metadata": {},
     "output_type": "execute_result"
    }
   ],
   "source": [
    "d"
   ]
  },
  {
   "cell_type": "code",
   "execution_count": 18,
   "id": "5a208bf6",
   "metadata": {},
   "outputs": [
    {
     "data": {
      "text/plain": [
       "'Ca'"
      ]
     },
     "execution_count": 18,
     "metadata": {},
     "output_type": "execute_result"
    }
   ],
   "source": [
    "d[0:2]"
   ]
  },
  {
   "cell_type": "code",
   "execution_count": 19,
   "id": "88120bc9",
   "metadata": {},
   "outputs": [
    {
     "data": {
      "text/plain": [
       "'a'"
      ]
     },
     "execution_count": 19,
     "metadata": {},
     "output_type": "execute_result"
    }
   ],
   "source": [
    "d[1:2]"
   ]
  },
  {
   "cell_type": "code",
   "execution_count": 20,
   "id": "e6cbea52",
   "metadata": {},
   "outputs": [
    {
     "data": {
      "text/plain": [
       "'Cab'"
      ]
     },
     "execution_count": 20,
     "metadata": {},
     "output_type": "execute_result"
    }
   ],
   "source": [
    "d[0:3]"
   ]
  },
  {
   "cell_type": "code",
   "execution_count": 23,
   "id": "fc71e0ad",
   "metadata": {},
   "outputs": [],
   "source": [
    "ult_letras = d[2:5]"
   ]
  },
  {
   "cell_type": "code",
   "execution_count": 24,
   "id": "bcd36f0e",
   "metadata": {},
   "outputs": [
    {
     "data": {
      "text/plain": [
       "'bra'"
      ]
     },
     "execution_count": 24,
     "metadata": {},
     "output_type": "execute_result"
    }
   ],
   "source": [
    "ult_letras"
   ]
  },
  {
   "cell_type": "code",
   "execution_count": 25,
   "id": "e56cdb6d",
   "metadata": {},
   "outputs": [
    {
     "data": {
      "text/plain": [
       "True"
      ]
     },
     "execution_count": 25,
     "metadata": {},
     "output_type": "execute_result"
    }
   ],
   "source": [
    "ult_letras != d"
   ]
  },
  {
   "cell_type": "code",
   "execution_count": null,
   "id": "e616299d",
   "metadata": {},
   "outputs": [],
   "source": []
  },
  {
   "cell_type": "code",
   "execution_count": 26,
   "id": "fad3feec",
   "metadata": {},
   "outputs": [
    {
     "data": {
      "text/plain": [
       "False"
      ]
     },
     "execution_count": 26,
     "metadata": {},
     "output_type": "execute_result"
    }
   ],
   "source": [
    "ult_letras == d"
   ]
  },
  {
   "cell_type": "code",
   "execution_count": null,
   "id": "fa31f828",
   "metadata": {},
   "outputs": [],
   "source": [
    "#Actividad sesion 8"
   ]
  },
  {
   "cell_type": "code",
   "execution_count": 38,
   "id": "a3dfcadc",
   "metadata": {},
   "outputs": [],
   "source": [
    "#X el doble de la edad\n",
    "x = 24"
   ]
  },
  {
   "cell_type": "code",
   "execution_count": 39,
   "id": "d97d13f3",
   "metadata": {},
   "outputs": [
    {
     "data": {
      "text/plain": [
       "24"
      ]
     },
     "execution_count": 39,
     "metadata": {},
     "output_type": "execute_result"
    }
   ],
   "source": [
    "x"
   ]
  },
  {
   "cell_type": "code",
   "execution_count": 40,
   "id": "ee4d7afa",
   "metadata": {},
   "outputs": [],
   "source": [
    "# Y la mitad del doble\n",
    "y = x / 2"
   ]
  },
  {
   "cell_type": "code",
   "execution_count": 41,
   "id": "a00f10ae",
   "metadata": {},
   "outputs": [
    {
     "data": {
      "text/plain": [
       "12.0"
      ]
     },
     "execution_count": 41,
     "metadata": {},
     "output_type": "execute_result"
    }
   ],
   "source": [
    "y"
   ]
  },
  {
   "cell_type": "code",
   "execution_count": 42,
   "id": "b3a55ba7",
   "metadata": {},
   "outputs": [
    {
     "data": {
      "text/plain": [
       "24"
      ]
     },
     "execution_count": 42,
     "metadata": {},
     "output_type": "execute_result"
    }
   ],
   "source": [
    "x"
   ]
  },
  {
   "cell_type": "code",
   "execution_count": 43,
   "id": "2ee44c70",
   "metadata": {},
   "outputs": [
    {
     "data": {
      "text/plain": [
       "12.0"
      ]
     },
     "execution_count": 43,
     "metadata": {},
     "output_type": "execute_result"
    }
   ],
   "source": [
    "y"
   ]
  },
  {
   "cell_type": "code",
   "execution_count": 34,
   "id": "94260a22",
   "metadata": {},
   "outputs": [],
   "source": [
    "#1/3(z)-15 = a\n",
    "a = 6\n",
    "z = (a+15)/(1/3)"
   ]
  },
  {
   "cell_type": "code",
   "execution_count": 35,
   "id": "d120dd05",
   "metadata": {},
   "outputs": [
    {
     "name": "stdout",
     "output_type": "stream",
     "text": [
      "La edad de mi hermana es 63.0\n"
     ]
    }
   ],
   "source": [
    "print(\"La edad de mi hermana es\", z)"
   ]
  },
  {
   "cell_type": "code",
   "execution_count": 36,
   "id": "f9b1c7c7",
   "metadata": {},
   "outputs": [],
   "source": [
    "#miEdad = 6\n",
    "#miEdad = 1/3(z)-15\n",
    "#(miEdad+15)/(1/3) = z"
   ]
  },
  {
   "cell_type": "code",
   "execution_count": 56,
   "id": "19d4fc10",
   "metadata": {},
   "outputs": [
    {
     "name": "stdout",
     "output_type": "stream",
     "text": [
      "Hermana es mayor\n"
     ]
    }
   ],
   "source": [
    "# Edad hermana 'z' comparada con 'y'\n",
    "z > y\n",
    "if z > y:\n",
    "    print(\"Hermana es mayor\")\n",
    "else:\n",
    "    print(\"Hermana es menor\")"
   ]
  },
  {
   "cell_type": "code",
   "execution_count": 45,
   "id": "9f35d679",
   "metadata": {},
   "outputs": [
    {
     "data": {
      "text/plain": [
       "False"
      ]
     },
     "execution_count": 45,
     "metadata": {},
     "output_type": "execute_result"
    }
   ],
   "source": [
    "y > z"
   ]
  },
  {
   "cell_type": "code",
   "execution_count": 46,
   "id": "cf30833f",
   "metadata": {},
   "outputs": [],
   "source": [
    "import numpy as np"
   ]
  },
  {
   "cell_type": "code",
   "execution_count": 50,
   "id": "ab121dac",
   "metadata": {},
   "outputs": [],
   "source": [
    "x12 = np.array([1,2,3,4,5,6,7])"
   ]
  },
  {
   "cell_type": "code",
   "execution_count": 48,
   "id": "7921214d",
   "metadata": {},
   "outputs": [
    {
     "data": {
      "text/plain": [
       "builtin_function_or_method"
      ]
     },
     "execution_count": 48,
     "metadata": {},
     "output_type": "execute_result"
    }
   ],
   "source": [
    "type(x12)"
   ]
  },
  {
   "cell_type": "code",
   "execution_count": 49,
   "id": "64f4982d",
   "metadata": {},
   "outputs": [],
   "source": [
    "#Mascaras, tipo de filtro mediante el uso de condicionantes"
   ]
  },
  {
   "cell_type": "code",
   "execution_count": 51,
   "id": "7994a874",
   "metadata": {},
   "outputs": [
    {
     "data": {
      "text/plain": [
       "array([1, 2, 3, 4, 5, 6, 7])"
      ]
     },
     "execution_count": 51,
     "metadata": {},
     "output_type": "execute_result"
    }
   ],
   "source": [
    "x12"
   ]
  },
  {
   "cell_type": "code",
   "execution_count": 52,
   "id": "3ac081c4",
   "metadata": {},
   "outputs": [
    {
     "data": {
      "text/plain": [
       "array([False, False, False,  True,  True,  True,  True])"
      ]
     },
     "execution_count": 52,
     "metadata": {},
     "output_type": "execute_result"
    }
   ],
   "source": [
    "mascara = x12>3\n",
    "mascara"
   ]
  },
  {
   "cell_type": "code",
   "execution_count": null,
   "id": "a0ee5a60",
   "metadata": {},
   "outputs": [],
   "source": []
  }
 ],
 "metadata": {
  "kernelspec": {
   "display_name": "Python 3 (ipykernel)",
   "language": "python",
   "name": "python3"
  },
  "language_info": {
   "codemirror_mode": {
    "name": "ipython",
    "version": 3
   },
   "file_extension": ".py",
   "mimetype": "text/x-python",
   "name": "python",
   "nbconvert_exporter": "python",
   "pygments_lexer": "ipython3",
   "version": "3.9.12"
  }
 },
 "nbformat": 4,
 "nbformat_minor": 5
}
